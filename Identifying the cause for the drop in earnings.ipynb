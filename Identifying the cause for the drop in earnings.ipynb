{
  "cells": [
    {
      "metadata": {
        "collapsed": true
      },
      "cell_type": "markdown",
      "source": "# Identifying the Cause of the Drop in Earnings"
    },
    {
      "metadata": {},
      "cell_type": "markdown",
      "source": "This Project is completed by Asyl Uraimova for the Quantitative Analytics course at SKK GSB"
    },
    {
      "metadata": {
        "trusted": true
      },
      "cell_type": "code",
      "source": "import pandas as pd\nimport warnings\nwarnings.filterwarnings('ignore')",
      "execution_count": 1,
      "outputs": []
    },
    {
      "metadata": {},
      "cell_type": "markdown",
      "source": "# Load Excel Data"
    },
    {
      "metadata": {
        "trusted": true
      },
      "cell_type": "code",
      "source": "data=pd.read_excel('Session 3 What Causes the Drop in Earning Excel.xlsx', 'Data Collected by Firm 1')\nprint(data.shape)\ndata.head(10)",
      "execution_count": 2,
      "outputs": [
        {
          "output_type": "stream",
          "text": "(150, 7)\n",
          "name": "stdout"
        },
        {
          "output_type": "execute_result",
          "execution_count": 2,
          "data": {
            "text/html": "<div>\n<style scoped>\n    .dataframe tbody tr th:only-of-type {\n        vertical-align: middle;\n    }\n\n    .dataframe tbody tr th {\n        vertical-align: top;\n    }\n\n    .dataframe thead th {\n        text-align: right;\n    }\n</style>\n<table border=\"1\" class=\"dataframe\">\n  <thead>\n    <tr style=\"text-align: right;\">\n      <th></th>\n      <th>Firm ID</th>\n      <th>Year</th>\n      <th>Industry Sector</th>\n      <th>Sales Revenue</th>\n      <th>Cost of Good Sold</th>\n      <th>Marketing Expense</th>\n      <th>Other SG&amp;A</th>\n    </tr>\n  </thead>\n  <tbody>\n    <tr>\n      <th>0</th>\n      <td>1</td>\n      <td>2014</td>\n      <td>1</td>\n      <td>22.607101</td>\n      <td>5.844890</td>\n      <td>2.313715</td>\n      <td>1.690075</td>\n    </tr>\n    <tr>\n      <th>1</th>\n      <td>1</td>\n      <td>2015</td>\n      <td>1</td>\n      <td>22.359463</td>\n      <td>5.641220</td>\n      <td>3.150740</td>\n      <td>1.666312</td>\n    </tr>\n    <tr>\n      <th>2</th>\n      <td>1</td>\n      <td>2016</td>\n      <td>1</td>\n      <td>25.424619</td>\n      <td>6.450170</td>\n      <td>3.039526</td>\n      <td>1.294547</td>\n    </tr>\n    <tr>\n      <th>3</th>\n      <td>1</td>\n      <td>2014</td>\n      <td>2</td>\n      <td>229.545770</td>\n      <td>37.931961</td>\n      <td>53.623257</td>\n      <td>28.683492</td>\n    </tr>\n    <tr>\n      <th>4</th>\n      <td>1</td>\n      <td>2015</td>\n      <td>2</td>\n      <td>248.265215</td>\n      <td>25.557039</td>\n      <td>59.798562</td>\n      <td>29.013593</td>\n    </tr>\n    <tr>\n      <th>5</th>\n      <td>1</td>\n      <td>2016</td>\n      <td>2</td>\n      <td>254.364516</td>\n      <td>47.529182</td>\n      <td>53.250149</td>\n      <td>27.067052</td>\n    </tr>\n    <tr>\n      <th>6</th>\n      <td>1</td>\n      <td>2014</td>\n      <td>3</td>\n      <td>217.764983</td>\n      <td>66.969088</td>\n      <td>41.543866</td>\n      <td>18.226670</td>\n    </tr>\n    <tr>\n      <th>7</th>\n      <td>1</td>\n      <td>2015</td>\n      <td>3</td>\n      <td>226.377078</td>\n      <td>89.729002</td>\n      <td>38.335719</td>\n      <td>20.144531</td>\n    </tr>\n    <tr>\n      <th>8</th>\n      <td>1</td>\n      <td>2016</td>\n      <td>3</td>\n      <td>278.382140</td>\n      <td>109.443210</td>\n      <td>42.621416</td>\n      <td>23.352657</td>\n    </tr>\n    <tr>\n      <th>9</th>\n      <td>1</td>\n      <td>2014</td>\n      <td>4</td>\n      <td>527.708499</td>\n      <td>84.228985</td>\n      <td>56.199622</td>\n      <td>49.278102</td>\n    </tr>\n  </tbody>\n</table>\n</div>",
            "text/plain": "   Firm ID  Year  Industry Sector  Sales Revenue  Cost of Good Sold  \\\n0        1  2014                1      22.607101           5.844890   \n1        1  2015                1      22.359463           5.641220   \n2        1  2016                1      25.424619           6.450170   \n3        1  2014                2     229.545770          37.931961   \n4        1  2015                2     248.265215          25.557039   \n5        1  2016                2     254.364516          47.529182   \n6        1  2014                3     217.764983          66.969088   \n7        1  2015                3     226.377078          89.729002   \n8        1  2016                3     278.382140         109.443210   \n9        1  2014                4     527.708499          84.228985   \n\n   Marketing Expense  Other SG&A  \n0           2.313715    1.690075  \n1           3.150740    1.666312  \n2           3.039526    1.294547  \n3          53.623257   28.683492  \n4          59.798562   29.013593  \n5          53.250149   27.067052  \n6          41.543866   18.226670  \n7          38.335719   20.144531  \n8          42.621416   23.352657  \n9          56.199622   49.278102  "
          },
          "metadata": {}
        }
      ]
    },
    {
      "metadata": {},
      "cell_type": "markdown",
      "source": "# Compute for the Firm"
    },
    {
      "metadata": {
        "trusted": true
      },
      "cell_type": "code",
      "source": "firm1=data.loc[(data['Firm ID']==1) & (data['Industry Sector']==4)]\nfirm1",
      "execution_count": 25,
      "outputs": [
        {
          "output_type": "execute_result",
          "execution_count": 25,
          "data": {
            "text/html": "<div>\n<style scoped>\n    .dataframe tbody tr th:only-of-type {\n        vertical-align: middle;\n    }\n\n    .dataframe tbody tr th {\n        vertical-align: top;\n    }\n\n    .dataframe thead th {\n        text-align: right;\n    }\n</style>\n<table border=\"1\" class=\"dataframe\">\n  <thead>\n    <tr style=\"text-align: right;\">\n      <th></th>\n      <th>Firm ID</th>\n      <th>Year</th>\n      <th>Industry Sector</th>\n      <th>Sales Revenue</th>\n      <th>Cost of Good Sold</th>\n      <th>Marketing Expense</th>\n      <th>Other SG&amp;A</th>\n    </tr>\n  </thead>\n  <tbody>\n    <tr>\n      <th>9</th>\n      <td>1</td>\n      <td>2014</td>\n      <td>4</td>\n      <td>527.708499</td>\n      <td>84.228985</td>\n      <td>56.199622</td>\n      <td>49.278102</td>\n    </tr>\n    <tr>\n      <th>10</th>\n      <td>1</td>\n      <td>2015</td>\n      <td>4</td>\n      <td>496.365661</td>\n      <td>79.914871</td>\n      <td>50.331659</td>\n      <td>46.658372</td>\n    </tr>\n    <tr>\n      <th>11</th>\n      <td>1</td>\n      <td>2016</td>\n      <td>4</td>\n      <td>422.459930</td>\n      <td>66.748669</td>\n      <td>43.930869</td>\n      <td>39.072151</td>\n    </tr>\n  </tbody>\n</table>\n</div>",
            "text/plain": "    Firm ID  Year  Industry Sector  Sales Revenue  Cost of Good Sold  \\\n9         1  2014                4     527.708499          84.228985   \n10        1  2015                4     496.365661          79.914871   \n11        1  2016                4     422.459930          66.748669   \n\n    Marketing Expense  Other SG&A  \n9           56.199622   49.278102  \n10          50.331659   46.658372  \n11          43.930869   39.072151  "
          },
          "metadata": {}
        }
      ]
    },
    {
      "metadata": {
        "trusted": true
      },
      "cell_type": "code",
      "source": "firm1['Cost of Good Sold/Sales Revenue']=firm1['Cost of Good Sold']/firm1['Sales Revenue']\nfirm1['Marketing Expense/Sales Revenue']=firm1['Marketing Expense']/firm1['Sales Revenue']\nfirm1['Other SG&A/Sales Revenue']=firm1['Other SG&A']/firm1['Sales Revenue']\nfirm1",
      "execution_count": 26,
      "outputs": [
        {
          "output_type": "execute_result",
          "execution_count": 26,
          "data": {
            "text/html": "<div>\n<style scoped>\n    .dataframe tbody tr th:only-of-type {\n        vertical-align: middle;\n    }\n\n    .dataframe tbody tr th {\n        vertical-align: top;\n    }\n\n    .dataframe thead th {\n        text-align: right;\n    }\n</style>\n<table border=\"1\" class=\"dataframe\">\n  <thead>\n    <tr style=\"text-align: right;\">\n      <th></th>\n      <th>Firm ID</th>\n      <th>Year</th>\n      <th>Industry Sector</th>\n      <th>Sales Revenue</th>\n      <th>Cost of Good Sold</th>\n      <th>Marketing Expense</th>\n      <th>Other SG&amp;A</th>\n      <th>Cost of Good Sold/Sales Revenue</th>\n      <th>Marketing Expense/Sales Revenue</th>\n      <th>Other SG&amp;A/Sales Revenue</th>\n    </tr>\n  </thead>\n  <tbody>\n    <tr>\n      <th>9</th>\n      <td>1</td>\n      <td>2014</td>\n      <td>4</td>\n      <td>527.708499</td>\n      <td>84.228985</td>\n      <td>56.199622</td>\n      <td>49.278102</td>\n      <td>0.159613</td>\n      <td>0.106497</td>\n      <td>0.093381</td>\n    </tr>\n    <tr>\n      <th>10</th>\n      <td>1</td>\n      <td>2015</td>\n      <td>4</td>\n      <td>496.365661</td>\n      <td>79.914871</td>\n      <td>50.331659</td>\n      <td>46.658372</td>\n      <td>0.161000</td>\n      <td>0.101400</td>\n      <td>0.094000</td>\n    </tr>\n    <tr>\n      <th>11</th>\n      <td>1</td>\n      <td>2016</td>\n      <td>4</td>\n      <td>422.459930</td>\n      <td>66.748669</td>\n      <td>43.930869</td>\n      <td>39.072151</td>\n      <td>0.158000</td>\n      <td>0.103988</td>\n      <td>0.092487</td>\n    </tr>\n  </tbody>\n</table>\n</div>",
            "text/plain": "    Firm ID  Year  Industry Sector  Sales Revenue  Cost of Good Sold  \\\n9         1  2014                4     527.708499          84.228985   \n10        1  2015                4     496.365661          79.914871   \n11        1  2016                4     422.459930          66.748669   \n\n    Marketing Expense  Other SG&A  Cost of Good Sold/Sales Revenue  \\\n9           56.199622   49.278102                         0.159613   \n10          50.331659   46.658372                         0.161000   \n11          43.930869   39.072151                         0.158000   \n\n    Marketing Expense/Sales Revenue  Other SG&A/Sales Revenue  \n9                          0.106497                  0.093381  \n10                         0.101400                  0.094000  \n11                         0.103988                  0.092487  "
          },
          "metadata": {}
        }
      ]
    },
    {
      "metadata": {
        "trusted": true
      },
      "cell_type": "code",
      "source": "firm1=firm1[['Year',\n       'Sales Revenue',\n       'Cost of Good Sold/Sales Revenue',\n       'Marketing Expense/Sales Revenue',\n       'Other SG&A/Sales Revenue']]\nfirm1",
      "execution_count": 27,
      "outputs": [
        {
          "output_type": "execute_result",
          "execution_count": 27,
          "data": {
            "text/html": "<div>\n<style scoped>\n    .dataframe tbody tr th:only-of-type {\n        vertical-align: middle;\n    }\n\n    .dataframe tbody tr th {\n        vertical-align: top;\n    }\n\n    .dataframe thead th {\n        text-align: right;\n    }\n</style>\n<table border=\"1\" class=\"dataframe\">\n  <thead>\n    <tr style=\"text-align: right;\">\n      <th></th>\n      <th>Year</th>\n      <th>Sales Revenue</th>\n      <th>Cost of Good Sold/Sales Revenue</th>\n      <th>Marketing Expense/Sales Revenue</th>\n      <th>Other SG&amp;A/Sales Revenue</th>\n    </tr>\n  </thead>\n  <tbody>\n    <tr>\n      <th>9</th>\n      <td>2014</td>\n      <td>527.708499</td>\n      <td>0.159613</td>\n      <td>0.106497</td>\n      <td>0.093381</td>\n    </tr>\n    <tr>\n      <th>10</th>\n      <td>2015</td>\n      <td>496.365661</td>\n      <td>0.161000</td>\n      <td>0.101400</td>\n      <td>0.094000</td>\n    </tr>\n    <tr>\n      <th>11</th>\n      <td>2016</td>\n      <td>422.459930</td>\n      <td>0.158000</td>\n      <td>0.103988</td>\n      <td>0.092487</td>\n    </tr>\n  </tbody>\n</table>\n</div>",
            "text/plain": "    Year  Sales Revenue  Cost of Good Sold/Sales Revenue  \\\n9   2014     527.708499                         0.159613   \n10  2015     496.365661                         0.161000   \n11  2016     422.459930                         0.158000   \n\n    Marketing Expense/Sales Revenue  Other SG&A/Sales Revenue  \n9                          0.106497                  0.093381  \n10                         0.101400                  0.094000  \n11                         0.103988                  0.092487  "
          },
          "metadata": {}
        }
      ]
    },
    {
      "metadata": {
        "trusted": true
      },
      "cell_type": "code",
      "source": "firm1=firm1.set_index('Year').transpose()\nfirm1",
      "execution_count": 28,
      "outputs": [
        {
          "output_type": "execute_result",
          "execution_count": 28,
          "data": {
            "text/html": "<div>\n<style scoped>\n    .dataframe tbody tr th:only-of-type {\n        vertical-align: middle;\n    }\n\n    .dataframe tbody tr th {\n        vertical-align: top;\n    }\n\n    .dataframe thead th {\n        text-align: right;\n    }\n</style>\n<table border=\"1\" class=\"dataframe\">\n  <thead>\n    <tr style=\"text-align: right;\">\n      <th>Year</th>\n      <th>2014</th>\n      <th>2015</th>\n      <th>2016</th>\n    </tr>\n  </thead>\n  <tbody>\n    <tr>\n      <th>Sales Revenue</th>\n      <td>527.708499</td>\n      <td>496.365661</td>\n      <td>422.459930</td>\n    </tr>\n    <tr>\n      <th>Cost of Good Sold/Sales Revenue</th>\n      <td>0.159613</td>\n      <td>0.161000</td>\n      <td>0.158000</td>\n    </tr>\n    <tr>\n      <th>Marketing Expense/Sales Revenue</th>\n      <td>0.106497</td>\n      <td>0.101400</td>\n      <td>0.103988</td>\n    </tr>\n    <tr>\n      <th>Other SG&amp;A/Sales Revenue</th>\n      <td>0.093381</td>\n      <td>0.094000</td>\n      <td>0.092487</td>\n    </tr>\n  </tbody>\n</table>\n</div>",
            "text/plain": "Year                                   2014        2015        2016\nSales Revenue                    527.708499  496.365661  422.459930\nCost of Good Sold/Sales Revenue    0.159613    0.161000    0.158000\nMarketing Expense/Sales Revenue    0.106497    0.101400    0.103988\nOther SG&A/Sales Revenue           0.093381    0.094000    0.092487"
          },
          "metadata": {}
        }
      ]
    },
    {
      "metadata": {},
      "cell_type": "markdown",
      "source": "# Compute Industry Aggregation"
    },
    {
      "metadata": {
        "trusted": true
      },
      "cell_type": "code",
      "source": "industry=data.loc[data['Industry Sector']==4]\nindustry.head()",
      "execution_count": 20,
      "outputs": [
        {
          "output_type": "execute_result",
          "execution_count": 20,
          "data": {
            "text/html": "<div>\n<style scoped>\n    .dataframe tbody tr th:only-of-type {\n        vertical-align: middle;\n    }\n\n    .dataframe tbody tr th {\n        vertical-align: top;\n    }\n\n    .dataframe thead th {\n        text-align: right;\n    }\n</style>\n<table border=\"1\" class=\"dataframe\">\n  <thead>\n    <tr style=\"text-align: right;\">\n      <th></th>\n      <th>Firm ID</th>\n      <th>Year</th>\n      <th>Industry Sector</th>\n      <th>Sales Revenue</th>\n      <th>Cost of Good Sold</th>\n      <th>Marketing Expense</th>\n      <th>Other SG&amp;A</th>\n    </tr>\n  </thead>\n  <tbody>\n    <tr>\n      <th>9</th>\n      <td>1</td>\n      <td>2014</td>\n      <td>4</td>\n      <td>527.708499</td>\n      <td>84.228985</td>\n      <td>56.199622</td>\n      <td>49.278102</td>\n    </tr>\n    <tr>\n      <th>10</th>\n      <td>1</td>\n      <td>2015</td>\n      <td>4</td>\n      <td>496.365661</td>\n      <td>79.914871</td>\n      <td>50.331659</td>\n      <td>46.658372</td>\n    </tr>\n    <tr>\n      <th>11</th>\n      <td>1</td>\n      <td>2016</td>\n      <td>4</td>\n      <td>422.459930</td>\n      <td>66.748669</td>\n      <td>43.930869</td>\n      <td>39.072151</td>\n    </tr>\n    <tr>\n      <th>24</th>\n      <td>2</td>\n      <td>2014</td>\n      <td>4</td>\n      <td>274.963766</td>\n      <td>60.688458</td>\n      <td>48.050411</td>\n      <td>16.198560</td>\n    </tr>\n    <tr>\n      <th>25</th>\n      <td>2</td>\n      <td>2015</td>\n      <td>4</td>\n      <td>364.825832</td>\n      <td>54.983714</td>\n      <td>59.308824</td>\n      <td>18.635122</td>\n    </tr>\n  </tbody>\n</table>\n</div>",
            "text/plain": "    Firm ID  Year  Industry Sector  Sales Revenue  Cost of Good Sold  \\\n9         1  2014                4     527.708499          84.228985   \n10        1  2015                4     496.365661          79.914871   \n11        1  2016                4     422.459930          66.748669   \n24        2  2014                4     274.963766          60.688458   \n25        2  2015                4     364.825832          54.983714   \n\n    Marketing Expense  Other SG&A  \n9           56.199622   49.278102  \n10          50.331659   46.658372  \n11          43.930869   39.072151  \n24          48.050411   16.198560  \n25          59.308824   18.635122  "
          },
          "metadata": {}
        }
      ]
    },
    {
      "metadata": {
        "trusted": true
      },
      "cell_type": "code",
      "source": "industry['Cost of Good Sold/Sales Revenue']=industry['Cost of Good Sold']/industry['Sales Revenue']\nindustry['Marketing Expense/Sales Revenue']=industry['Marketing Expense']/industry['Sales Revenue']\nindustry['Other SG&A/Sales Revenue']=industry['Other SG&A']/industry['Sales Revenue']\nindustry.head()",
      "execution_count": 21,
      "outputs": [
        {
          "output_type": "execute_result",
          "execution_count": 21,
          "data": {
            "text/html": "<div>\n<style scoped>\n    .dataframe tbody tr th:only-of-type {\n        vertical-align: middle;\n    }\n\n    .dataframe tbody tr th {\n        vertical-align: top;\n    }\n\n    .dataframe thead th {\n        text-align: right;\n    }\n</style>\n<table border=\"1\" class=\"dataframe\">\n  <thead>\n    <tr style=\"text-align: right;\">\n      <th></th>\n      <th>Firm ID</th>\n      <th>Year</th>\n      <th>Industry Sector</th>\n      <th>Sales Revenue</th>\n      <th>Cost of Good Sold</th>\n      <th>Marketing Expense</th>\n      <th>Other SG&amp;A</th>\n      <th>Cost of Good Sold/Sales Revenue</th>\n      <th>Marketing Expense/Sales Revenue</th>\n      <th>Other SG&amp;A/Sales Revenue</th>\n    </tr>\n  </thead>\n  <tbody>\n    <tr>\n      <th>9</th>\n      <td>1</td>\n      <td>2014</td>\n      <td>4</td>\n      <td>527.708499</td>\n      <td>84.228985</td>\n      <td>56.199622</td>\n      <td>49.278102</td>\n      <td>0.159613</td>\n      <td>0.106497</td>\n      <td>0.093381</td>\n    </tr>\n    <tr>\n      <th>10</th>\n      <td>1</td>\n      <td>2015</td>\n      <td>4</td>\n      <td>496.365661</td>\n      <td>79.914871</td>\n      <td>50.331659</td>\n      <td>46.658372</td>\n      <td>0.161000</td>\n      <td>0.101400</td>\n      <td>0.094000</td>\n    </tr>\n    <tr>\n      <th>11</th>\n      <td>1</td>\n      <td>2016</td>\n      <td>4</td>\n      <td>422.459930</td>\n      <td>66.748669</td>\n      <td>43.930869</td>\n      <td>39.072151</td>\n      <td>0.158000</td>\n      <td>0.103988</td>\n      <td>0.092487</td>\n    </tr>\n    <tr>\n      <th>24</th>\n      <td>2</td>\n      <td>2014</td>\n      <td>4</td>\n      <td>274.963766</td>\n      <td>60.688458</td>\n      <td>48.050411</td>\n      <td>16.198560</td>\n      <td>0.220714</td>\n      <td>0.174752</td>\n      <td>0.058912</td>\n    </tr>\n    <tr>\n      <th>25</th>\n      <td>2</td>\n      <td>2015</td>\n      <td>4</td>\n      <td>364.825832</td>\n      <td>54.983714</td>\n      <td>59.308824</td>\n      <td>18.635122</td>\n      <td>0.150712</td>\n      <td>0.162568</td>\n      <td>0.051080</td>\n    </tr>\n  </tbody>\n</table>\n</div>",
            "text/plain": "    Firm ID  Year  Industry Sector  Sales Revenue  Cost of Good Sold  \\\n9         1  2014                4     527.708499          84.228985   \n10        1  2015                4     496.365661          79.914871   \n11        1  2016                4     422.459930          66.748669   \n24        2  2014                4     274.963766          60.688458   \n25        2  2015                4     364.825832          54.983714   \n\n    Marketing Expense  Other SG&A  Cost of Good Sold/Sales Revenue  \\\n9           56.199622   49.278102                         0.159613   \n10          50.331659   46.658372                         0.161000   \n11          43.930869   39.072151                         0.158000   \n24          48.050411   16.198560                         0.220714   \n25          59.308824   18.635122                         0.150712   \n\n    Marketing Expense/Sales Revenue  Other SG&A/Sales Revenue  \n9                          0.106497                  0.093381  \n10                         0.101400                  0.094000  \n11                         0.103988                  0.092487  \n24                         0.174752                  0.058912  \n25                         0.162568                  0.051080  "
          },
          "metadata": {}
        }
      ]
    },
    {
      "metadata": {
        "trusted": true
      },
      "cell_type": "code",
      "source": "industry2=industry.groupby('Year')['Cost of Good Sold/Sales Revenue',\n                                   'Marketing Expense/Sales Revenue',\n                                   'Other SG&A/Sales Revenue'].mean()\nindustry2",
      "execution_count": 23,
      "outputs": [
        {
          "output_type": "execute_result",
          "execution_count": 23,
          "data": {
            "text/html": "<div>\n<style scoped>\n    .dataframe tbody tr th:only-of-type {\n        vertical-align: middle;\n    }\n\n    .dataframe tbody tr th {\n        vertical-align: top;\n    }\n\n    .dataframe thead th {\n        text-align: right;\n    }\n</style>\n<table border=\"1\" class=\"dataframe\">\n  <thead>\n    <tr style=\"text-align: right;\">\n      <th></th>\n      <th>Cost of Good Sold/Sales Revenue</th>\n      <th>Marketing Expense/Sales Revenue</th>\n      <th>Other SG&amp;A/Sales Revenue</th>\n    </tr>\n    <tr>\n      <th>Year</th>\n      <th></th>\n      <th></th>\n      <th></th>\n    </tr>\n  </thead>\n  <tbody>\n    <tr>\n      <th>2014</th>\n      <td>0.204193</td>\n      <td>0.154588</td>\n      <td>0.076480</td>\n    </tr>\n    <tr>\n      <th>2015</th>\n      <td>0.181668</td>\n      <td>0.155411</td>\n      <td>0.070605</td>\n    </tr>\n    <tr>\n      <th>2016</th>\n      <td>0.194602</td>\n      <td>0.138103</td>\n      <td>0.081271</td>\n    </tr>\n  </tbody>\n</table>\n</div>",
            "text/plain": "      Cost of Good Sold/Sales Revenue  Marketing Expense/Sales Revenue  \\\nYear                                                                     \n2014                         0.204193                         0.154588   \n2015                         0.181668                         0.155411   \n2016                         0.194602                         0.138103   \n\n      Other SG&A/Sales Revenue  \nYear                            \n2014                  0.076480  \n2015                  0.070605  \n2016                  0.081271  "
          },
          "metadata": {}
        }
      ]
    },
    {
      "metadata": {
        "trusted": true,
        "scrolled": true
      },
      "cell_type": "code",
      "source": "industry2['Sales Revenue']=industry.groupby('Year')['Sales Revenue'].mean()\nindustry=industry2.transpose()\nindustry",
      "execution_count": 24,
      "outputs": [
        {
          "output_type": "execute_result",
          "execution_count": 24,
          "data": {
            "text/html": "<div>\n<style scoped>\n    .dataframe tbody tr th:only-of-type {\n        vertical-align: middle;\n    }\n\n    .dataframe tbody tr th {\n        vertical-align: top;\n    }\n\n    .dataframe thead th {\n        text-align: right;\n    }\n</style>\n<table border=\"1\" class=\"dataframe\">\n  <thead>\n    <tr style=\"text-align: right;\">\n      <th>Year</th>\n      <th>2014</th>\n      <th>2015</th>\n      <th>2016</th>\n    </tr>\n  </thead>\n  <tbody>\n    <tr>\n      <th>Cost of Good Sold/Sales Revenue</th>\n      <td>0.204193</td>\n      <td>0.181668</td>\n      <td>0.194602</td>\n    </tr>\n    <tr>\n      <th>Marketing Expense/Sales Revenue</th>\n      <td>0.154588</td>\n      <td>0.155411</td>\n      <td>0.138103</td>\n    </tr>\n    <tr>\n      <th>Other SG&amp;A/Sales Revenue</th>\n      <td>0.076480</td>\n      <td>0.070605</td>\n      <td>0.081271</td>\n    </tr>\n    <tr>\n      <th>Sales Revenue</th>\n      <td>199.804806</td>\n      <td>206.769565</td>\n      <td>209.714604</td>\n    </tr>\n  </tbody>\n</table>\n</div>",
            "text/plain": "Year                                   2014        2015        2016\nCost of Good Sold/Sales Revenue    0.204193    0.181668    0.194602\nMarketing Expense/Sales Revenue    0.154588    0.155411    0.138103\nOther SG&A/Sales Revenue           0.076480    0.070605    0.081271\nSales Revenue                    199.804806  206.769565  209.714604"
          },
          "metadata": {}
        }
      ]
    },
    {
      "metadata": {},
      "cell_type": "markdown",
      "source": "# Compare Firm 1 with the Industry Average"
    },
    {
      "metadata": {
        "trusted": true
      },
      "cell_type": "code",
      "source": "firm1",
      "execution_count": 35,
      "outputs": [
        {
          "output_type": "execute_result",
          "execution_count": 35,
          "data": {
            "text/html": "<div>\n<style scoped>\n    .dataframe tbody tr th:only-of-type {\n        vertical-align: middle;\n    }\n\n    .dataframe tbody tr th {\n        vertical-align: top;\n    }\n\n    .dataframe thead th {\n        text-align: right;\n    }\n</style>\n<table border=\"1\" class=\"dataframe\">\n  <thead>\n    <tr style=\"text-align: right;\">\n      <th>Year</th>\n      <th>2014</th>\n      <th>2015</th>\n      <th>2016</th>\n    </tr>\n  </thead>\n  <tbody>\n    <tr>\n      <th>Sales Revenue</th>\n      <td>527.708499</td>\n      <td>496.365661</td>\n      <td>422.459930</td>\n    </tr>\n    <tr>\n      <th>Cost of Good Sold/Sales Revenue</th>\n      <td>0.159613</td>\n      <td>0.161000</td>\n      <td>0.158000</td>\n    </tr>\n    <tr>\n      <th>Marketing Expense/Sales Revenue</th>\n      <td>0.106497</td>\n      <td>0.101400</td>\n      <td>0.103988</td>\n    </tr>\n    <tr>\n      <th>Other SG&amp;A/Sales Revenue</th>\n      <td>0.093381</td>\n      <td>0.094000</td>\n      <td>0.092487</td>\n    </tr>\n  </tbody>\n</table>\n</div>",
            "text/plain": "Year                                   2014        2015        2016\nSales Revenue                    527.708499  496.365661  422.459930\nCost of Good Sold/Sales Revenue    0.159613    0.161000    0.158000\nMarketing Expense/Sales Revenue    0.106497    0.101400    0.103988\nOther SG&A/Sales Revenue           0.093381    0.094000    0.092487"
          },
          "metadata": {}
        }
      ]
    },
    {
      "metadata": {
        "trusted": true
      },
      "cell_type": "code",
      "source": "industry",
      "execution_count": 30,
      "outputs": [
        {
          "output_type": "execute_result",
          "execution_count": 30,
          "data": {
            "text/html": "<div>\n<style scoped>\n    .dataframe tbody tr th:only-of-type {\n        vertical-align: middle;\n    }\n\n    .dataframe tbody tr th {\n        vertical-align: top;\n    }\n\n    .dataframe thead th {\n        text-align: right;\n    }\n</style>\n<table border=\"1\" class=\"dataframe\">\n  <thead>\n    <tr style=\"text-align: right;\">\n      <th>Year</th>\n      <th>2014</th>\n      <th>2015</th>\n      <th>2016</th>\n    </tr>\n  </thead>\n  <tbody>\n    <tr>\n      <th>Cost of Good Sold/Sales Revenue</th>\n      <td>0.204193</td>\n      <td>0.181668</td>\n      <td>0.194602</td>\n    </tr>\n    <tr>\n      <th>Marketing Expense/Sales Revenue</th>\n      <td>0.154588</td>\n      <td>0.155411</td>\n      <td>0.138103</td>\n    </tr>\n    <tr>\n      <th>Other SG&amp;A/Sales Revenue</th>\n      <td>0.076480</td>\n      <td>0.070605</td>\n      <td>0.081271</td>\n    </tr>\n    <tr>\n      <th>Sales Revenue</th>\n      <td>199.804806</td>\n      <td>206.769565</td>\n      <td>209.714604</td>\n    </tr>\n  </tbody>\n</table>\n</div>",
            "text/plain": "Year                                   2014        2015        2016\nCost of Good Sold/Sales Revenue    0.204193    0.181668    0.194602\nMarketing Expense/Sales Revenue    0.154588    0.155411    0.138103\nOther SG&A/Sales Revenue           0.076480    0.070605    0.081271\nSales Revenue                    199.804806  206.769565  209.714604"
          },
          "metadata": {}
        }
      ]
    },
    {
      "metadata": {},
      "cell_type": "markdown",
      "source": "# Conclusion"
    },
    {
      "metadata": {},
      "cell_type": "markdown",
      "source": "The industry performance was stable and even had a little growth between 2014 and 2016. Therefore, the drop in revenue of Firm1 is not driven by an industry decline.\n\nI further analized the cause of the decline in earnings which can be associated with the costs of the company. Therefore, I compared the firm's costs with the industry average.\n\nAs a result, the analysis shows the following:\n1. Firm1 has lower COGS cost, implying that the drop earning is not driven by high COGS cost.\n2. Firm1 has way lower marketing spending, implying that Firm 1 did not allocate much resource in marketing. This implies that the competitors spend much more on marketing to push their sales. Therefore, this couls be a reason for decline in revenue for Firm1. \n3. Firm 1 has a higher SG&A expense. In order to decide whether this is causing the decline in sales, we need to further decompose SG&A."
    },
    {
      "metadata": {
        "trusted": true
      },
      "cell_type": "code",
      "source": "",
      "execution_count": null,
      "outputs": []
    }
  ],
  "metadata": {
    "kernelspec": {
      "name": "python36",
      "display_name": "Python 3.6",
      "language": "python"
    },
    "language_info": {
      "mimetype": "text/x-python",
      "nbconvert_exporter": "python",
      "name": "python",
      "pygments_lexer": "ipython3",
      "version": "3.6.6",
      "file_extension": ".py",
      "codemirror_mode": {
        "version": 3,
        "name": "ipython"
      }
    }
  },
  "nbformat": 4,
  "nbformat_minor": 2
}